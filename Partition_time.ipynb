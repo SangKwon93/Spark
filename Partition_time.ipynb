{
 "cells": [
  {
   "cell_type": "markdown",
   "metadata": {},
   "source": [
    "## Partition의 이해"
   ]
  },
  {
   "cell_type": "code",
   "execution_count": 1,
   "metadata": {},
   "outputs": [],
   "source": [
    "import findspark\n",
    "findspark.init()"
   ]
  },
  {
   "cell_type": "code",
   "execution_count": 2,
   "metadata": {},
   "outputs": [],
   "source": [
    "from pyspark import SparkConf, SparkContext\n",
    "conf = SparkConf().setMaster(\"local\").setAppName(\"partition_time\")\n",
    "sc = SparkContext(conf=conf)"
   ]
  },
  {
   "cell_type": "markdown",
   "metadata": {},
   "source": [
    "### `파티션에 데이터가 하나만 있으면 reduce가 안되고 그 값 그대로 나온다!`"
   ]
  },
  {
   "cell_type": "code",
   "execution_count": 6,
   "metadata": {},
   "outputs": [
    {
     "data": {
      "text/plain": [
       "26"
      ]
     },
     "execution_count": 6,
     "metadata": {},
     "output_type": "execute_result"
    }
   ],
   "source": [
    " # 파티션을 1개 지정 직접 하기\n",
    "sc.parallelize([1, 2, 3, 4], 1).reduce(lambda x, y : (x * 2) + y)"
   ]
  },
  {
   "cell_type": "code",
   "execution_count": 7,
   "metadata": {},
   "outputs": [
    {
     "data": {
      "text/plain": [
       "18"
      ]
     },
     "execution_count": 7,
     "metadata": {},
     "output_type": "execute_result"
    }
   ],
   "source": [
    "# 파티션 2개로 직접 지정\n",
    "# [1,2]/[3,4] 병렬로 진행\n",
    "sc.parallelize([1, 2, 3, 4], 2).reduce(lambda x, y : (x * 2) + y)"
   ]
  },
  {
   "cell_type": "code",
   "execution_count": 8,
   "metadata": {},
   "outputs": [
    {
     "data": {
      "text/plain": [
       "18"
      ]
     },
     "execution_count": 8,
     "metadata": {},
     "output_type": "execute_result"
    }
   ],
   "source": [
    "# 파티션 3개로 직접 지정\n",
    "# [1]/[2]/[3,4] 진행\n",
    "sc.parallelize([1, 2, 3, 4], 3).reduce(lambda x, y : (x * 2) + y)"
   ]
  },
  {
   "cell_type": "markdown",
   "metadata": {},
   "source": [
    "|p1_x|p1_y|p1_result|\n",
    "|:--:|:--:|:--:|\n",
    "|1|0|1|\n",
    "\n",
    "|p2_x|p2_y|p2_result|\n",
    "|:--:|:--:|:--:|\n",
    "|2|0|2|\n",
    "\n",
    "|p3_x|p3_y|(x * 2) + y|\n",
    "|:--:|:--:|:--:|\n",
    "|3|4|(3 * 2) + 4 = 10|\n",
    "\n",
    "|p1_result|p2_result|(x * 2) + y|\n",
    "|:--:|:--:|:--:|\n",
    "|3|4|(1 * 2) + 2 = 4|\n",
    "\n",
    "|p1_p2_result|p3_result|(x * 2) + y|\n",
    "|:--:|:--:|:--:|\n",
    "|4|10|(4 * 2) + 10 = 18|"
   ]
  },
  {
   "cell_type": "code",
   "execution_count": 9,
   "metadata": {},
   "outputs": [
    {
     "data": {
      "text/plain": [
       "26"
      ]
     },
     "execution_count": 9,
     "metadata": {},
     "output_type": "execute_result"
    }
   ],
   "source": [
    "# 파티션 4개로 직접 지정\n",
    "# [1]/[2]/[3]/[4] 진행\n",
    "sc.parallelize([1, 2, 3, 4], 4).reduce(lambda x, y : (x * 2) + y)"
   ]
  },
  {
   "cell_type": "markdown",
   "metadata": {},
   "source": [
    "## 결론\n",
    "### 연산자 우선순위에 따라 파티션의 결과값이 달라질 수 있다.\n",
    "### (RDD프로그램 할 경우)`곱셈과 나눗셈 순서를 잘 지정`해야한다"
   ]
  },
  {
   "cell_type": "markdown",
   "metadata": {},
   "source": []
  }
 ],
 "metadata": {
  "kernelspec": {
   "display_name": "Python 3.9.13 ('base')",
   "language": "python",
   "name": "python3"
  },
  "language_info": {
   "codemirror_mode": {
    "name": "ipython",
    "version": 3
   },
   "file_extension": ".py",
   "mimetype": "text/x-python",
   "name": "python",
   "nbconvert_exporter": "python",
   "pygments_lexer": "ipython3",
   "version": "3.9.13"
  },
  "orig_nbformat": 4,
  "vscode": {
   "interpreter": {
    "hash": "3c06e3e46abf38078fe4dac36a0085ec2b134ebbd73dd076183d243eeca6918f"
   }
  }
 },
 "nbformat": 4,
 "nbformat_minor": 2
}
