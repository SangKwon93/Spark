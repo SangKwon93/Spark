{
 "cells": [
  {
   "cell_type": "markdown",
   "metadata": {},
   "source": [
    "# transformation을 할건데 select만 사용할 상황\n",
    "- 원본데이터를 캐시에 넣어두고 활용하자!\n",
    "-> 일반적인 활용법"
   ]
  },
  {
   "cell_type": "code",
   "execution_count": 1,
   "metadata": {},
   "outputs": [],
   "source": [
    "import findspark\n",
    "findspark.init()"
   ]
  },
  {
   "cell_type": "code",
   "execution_count": 2,
   "metadata": {},
   "outputs": [],
   "source": [
    "from pyspark import SparkConf, SparkContext\n",
    "conf = SparkConf().setMaster(\"local\").setAppName(\"cache_persist_example\")\n",
    "sc = SparkContext(conf=conf)"
   ]
  },
  {
   "cell_type": "code",
   "execution_count": 4,
   "metadata": {},
   "outputs": [],
   "source": [
    "directory='c://Users//apfhd//SparkExam//data//restaurant_reviews.csv'"
   ]
  },
  {
   "cell_type": "code",
   "execution_count": 5,
   "metadata": {},
   "outputs": [
    {
     "data": {
      "text/plain": [
       "['id,item,cateogry,reviews,',\n",
       " '0,짜장면,중식,125,',\n",
       " '1,짬뽕,중식,235,',\n",
       " '2,김밥,분식,32,',\n",
       " '3,떡볶이,분식,534,',\n",
       " '4,라멘,일식,223,',\n",
       " '5,돈가스,일식,52,',\n",
       " '6,우동,일식,12,',\n",
       " '7,쌀국수,아시안,312,',\n",
       " '8,햄버거,패스트푸드,12,',\n",
       " '9,치킨,패스트푸드,23']"
      ]
     },
     "execution_count": 5,
     "metadata": {},
     "output_type": "execute_result"
    }
   ],
   "source": [
    "lines = sc.textFile(f\"file:///{directory}\")\n",
    "lines.collect()"
   ]
  },
  {
   "cell_type": "markdown",
   "metadata": {},
   "source": [
    "### 조회 대상이 될 만한 데이터만 cache,persist에 넣는다! \n",
    "==> 컬럼도 물론 제거!"
   ]
  },
  {
   "cell_type": "code",
   "execution_count": 7,
   "metadata": {},
   "outputs": [
    {
     "data": {
      "text/plain": [
       "['0,짜장면,중식,125,',\n",
       " '1,짬뽕,중식,235,',\n",
       " '2,김밥,분식,32,',\n",
       " '3,떡볶이,분식,534,',\n",
       " '4,라멘,일식,223,',\n",
       " '5,돈가스,일식,52,',\n",
       " '6,우동,일식,12,',\n",
       " '7,쌀국수,아시안,312,',\n",
       " '8,햄버거,패스트푸드,12,',\n",
       " '9,치킨,패스트푸드,23']"
      ]
     },
     "execution_count": 7,
     "metadata": {},
     "output_type": "execute_result"
    }
   ],
   "source": [
    "header=lines.first()\n",
    "rows=lines.filter(lambda row : row !=header)\n",
    "rows.collect()"
   ]
  },
  {
   "cell_type": "code",
   "execution_count": 8,
   "metadata": {},
   "outputs": [],
   "source": [
    "def parse(row):\n",
    "    fields=row.split(',')\n",
    "    category=fields[2]\n",
    "    reviews=int(fields[3])\n",
    "    return category,reviews"
   ]
  },
  {
   "cell_type": "markdown",
   "metadata": {},
   "source": [
    "## persist를 사용하지 않는 경우 ( 대부분 persist를 사용한다)"
   ]
  },
  {
   "cell_type": "code",
   "execution_count": 17,
   "metadata": {},
   "outputs": [
    {
     "data": {
      "text/plain": [
       "[('중식', 125),\n",
       " ('중식', 235),\n",
       " ('분식', 32),\n",
       " ('분식', 534),\n",
       " ('일식', 223),\n",
       " ('일식', 52),\n",
       " ('일식', 12),\n",
       " ('아시안', 312),\n",
       " ('패스트푸드', 12),\n",
       " ('패스트푸드', 23)]"
      ]
     },
     "execution_count": 17,
     "metadata": {},
     "output_type": "execute_result"
    }
   ],
   "source": [
    "# 비즈니스에 연관된 transformations를 수행할 RDD 생성\n",
    "# 카테고리와 리뷰수에 대한 것만 활용할 때\n",
    "categoryReviews = rows.map(parse)\n",
    "categoryReviews.collect()"
   ]
  },
  {
   "cell_type": "code",
   "execution_count": 18,
   "metadata": {},
   "outputs": [
    {
     "data": {
      "text/plain": [
       "[('중식', 125), ('중식', 235), ('분식', 32), ('분식', 534), ('일식', 223)]"
      ]
     },
     "execution_count": 18,
     "metadata": {},
     "output_type": "execute_result"
    }
   ],
   "source": [
    "result1 = categoryReviews.take(5)\n",
    "result1"
   ]
  },
  {
   "cell_type": "code",
   "execution_count": 19,
   "metadata": {},
   "outputs": [
    {
     "data": {
      "text/plain": [
       "[('중식', (125, 1)),\n",
       " ('중식', (235, 1)),\n",
       " ('분식', (32, 1)),\n",
       " ('분식', (534, 1)),\n",
       " ('일식', (223, 1)),\n",
       " ('일식', (52, 1)),\n",
       " ('일식', (12, 1)),\n",
       " ('아시안', (312, 1)),\n",
       " ('패스트푸드', (12, 1)),\n",
       " ('패스트푸드', (23, 1))]"
      ]
     },
     "execution_count": 19,
     "metadata": {},
     "output_type": "execute_result"
    }
   ],
   "source": [
    "result2 = categoryReviews.mapValues(lambda x : (x, 1)).collect()\n",
    "result2"
   ]
  },
  {
   "cell_type": "markdown",
   "metadata": {},
   "source": [
    "`categoryReviews`는 `result1`, `result2`를 수행하면서 두 개가 만들어 진다.  \n",
    "` 매번 활용 할 때마다 RDD가 생성되어 메모리를 잡아먹는다.`\n",
    "\n",
    "`categoryReviews`에서 데이터를 꺼내오기만 하면 되지, 변경은 일어나지 않기 때문에  \n",
    " `persist`를 이용해서 `categoryReviews`를 메모리에 넣어 놓는 것이 조금 더 유리할 것이다."
   ]
  },
  {
   "cell_type": "markdown",
   "metadata": {},
   "source": [
    "## `persist`를 사용하는 경우"
   ]
  },
  {
   "cell_type": "code",
   "execution_count": 20,
   "metadata": {},
   "outputs": [
    {
     "data": {
      "text/plain": [
       "PythonRDD[16] at RDD at PythonRDD.scala:53"
      ]
     },
     "execution_count": 20,
     "metadata": {},
     "output_type": "execute_result"
    }
   ],
   "source": [
    "# categoryReviews만 사용할 것이며 변형이 없을 것이기에 persist로 하나만 RDD를 만든다.\n",
    "categoryReviews_persist = rows.map(parse).persist() # categoryReviews RDD는 메모리 상에 하나만 존재하는 RDD가 된다.\n",
    "categoryReviews_persist"
   ]
  },
  {
   "cell_type": "code",
   "execution_count": 21,
   "metadata": {},
   "outputs": [
    {
     "data": {
      "text/plain": [
       "[('중식', 125), ('중식', 235), ('분식', 32), ('분식', 534), ('일식', 223)]"
      ]
     },
     "execution_count": 21,
     "metadata": {},
     "output_type": "execute_result"
    }
   ],
   "source": [
    "result3 = categoryReviews_persist.take(5)\n",
    "result3"
   ]
  },
  {
   "cell_type": "code",
   "execution_count": 22,
   "metadata": {},
   "outputs": [
    {
     "data": {
      "text/plain": [
       "[('중식', (125, 1)),\n",
       " ('중식', (235, 1)),\n",
       " ('분식', (32, 1)),\n",
       " ('분식', (534, 1)),\n",
       " ('일식', (223, 1)),\n",
       " ('일식', (52, 1)),\n",
       " ('일식', (12, 1)),\n",
       " ('아시안', (312, 1)),\n",
       " ('패스트푸드', (12, 1)),\n",
       " ('패스트푸드', (23, 1))]"
      ]
     },
     "execution_count": 22,
     "metadata": {},
     "output_type": "execute_result"
    }
   ],
   "source": [
    "result4 = categoryReviews_persist.mapValues(lambda x : (x, 1)).collect()\n",
    "result4"
   ]
  },
  {
   "cell_type": "code",
   "execution_count": null,
   "metadata": {},
   "outputs": [],
   "source": []
  }
 ],
 "metadata": {
  "kernelspec": {
   "display_name": "Python 3.9.13 ('base')",
   "language": "python",
   "name": "python3"
  },
  "language_info": {
   "codemirror_mode": {
    "name": "ipython",
    "version": 3
   },
   "file_extension": ".py",
   "mimetype": "text/x-python",
   "name": "python",
   "nbconvert_exporter": "python",
   "pygments_lexer": "ipython3",
   "version": "3.9.13"
  },
  "orig_nbformat": 4,
  "vscode": {
   "interpreter": {
    "hash": "3c06e3e46abf38078fe4dac36a0085ec2b134ebbd73dd076183d243eeca6918f"
   }
  }
 },
 "nbformat": 4,
 "nbformat_minor": 2
}
