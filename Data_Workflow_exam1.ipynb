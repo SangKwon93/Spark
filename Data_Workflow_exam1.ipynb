{
 "cells": [
  {
   "cell_type": "markdown",
   "metadata": {},
   "source": [
    "## 연령별 count 세어주기\n",
    "- 'fakefriends.csv' 활용\n",
    "- age가 13세 이상 19세 미만인 사람들 조회\n",
    "- 연령 별 count를 DataFrame API 사용해서 구해보기\n",
    "- ``쿼리쓰지말고`` "
   ]
  },
  {
   "cell_type": "code",
   "execution_count": 1,
   "metadata": {},
   "outputs": [],
   "source": [
    "import findspark\n",
    "findspark.init()"
   ]
  },
  {
   "cell_type": "code",
   "execution_count": 2,
   "metadata": {},
   "outputs": [],
   "source": [
    "from pyspark.sql import SparkSession\n",
    "spark=SparkSession.builder.appName(\"exam\").getOrCreate()"
   ]
  },
  {
   "cell_type": "code",
   "execution_count": 3,
   "metadata": {},
   "outputs": [
    {
     "data": {
      "text/plain": [
       "'c:\\\\Users\\\\apfhd\\\\SparkExam'"
      ]
     },
     "execution_count": 3,
     "metadata": {},
     "output_type": "execute_result"
    }
   ],
   "source": [
    "pwd"
   ]
  },
  {
   "cell_type": "markdown",
   "metadata": {},
   "source": [
    "###  DataFrame 활용을 위해 pandas 활용하였으나 이것은 DataFrame API 활용 방안이 아니다."
   ]
  },
  {
   "cell_type": "code",
   "execution_count": 4,
   "metadata": {},
   "outputs": [
    {
     "data": {
      "text/html": [
       "<div>\n",
       "<style scoped>\n",
       "    .dataframe tbody tr th:only-of-type {\n",
       "        vertical-align: middle;\n",
       "    }\n",
       "\n",
       "    .dataframe tbody tr th {\n",
       "        vertical-align: top;\n",
       "    }\n",
       "\n",
       "    .dataframe thead th {\n",
       "        text-align: right;\n",
       "    }\n",
       "</style>\n",
       "<table border=\"1\" class=\"dataframe\">\n",
       "  <thead>\n",
       "    <tr style=\"text-align: right;\">\n",
       "      <th></th>\n",
       "      <th>0</th>\n",
       "      <th>Will</th>\n",
       "      <th>33</th>\n",
       "      <th>385</th>\n",
       "    </tr>\n",
       "  </thead>\n",
       "  <tbody>\n",
       "    <tr>\n",
       "      <th>0</th>\n",
       "      <td>1</td>\n",
       "      <td>Jean-Luc</td>\n",
       "      <td>26</td>\n",
       "      <td>2</td>\n",
       "    </tr>\n",
       "    <tr>\n",
       "      <th>1</th>\n",
       "      <td>2</td>\n",
       "      <td>Hugh</td>\n",
       "      <td>55</td>\n",
       "      <td>221</td>\n",
       "    </tr>\n",
       "    <tr>\n",
       "      <th>2</th>\n",
       "      <td>3</td>\n",
       "      <td>Deanna</td>\n",
       "      <td>40</td>\n",
       "      <td>465</td>\n",
       "    </tr>\n",
       "    <tr>\n",
       "      <th>3</th>\n",
       "      <td>4</td>\n",
       "      <td>Quark</td>\n",
       "      <td>68</td>\n",
       "      <td>21</td>\n",
       "    </tr>\n",
       "    <tr>\n",
       "      <th>4</th>\n",
       "      <td>5</td>\n",
       "      <td>Weyoun</td>\n",
       "      <td>59</td>\n",
       "      <td>318</td>\n",
       "    </tr>\n",
       "  </tbody>\n",
       "</table>\n",
       "</div>"
      ],
      "text/plain": [
       "   0      Will  33  385\n",
       "0  1  Jean-Luc  26    2\n",
       "1  2      Hugh  55  221\n",
       "2  3    Deanna  40  465\n",
       "3  4     Quark  68   21\n",
       "4  5    Weyoun  59  318"
      ]
     },
     "execution_count": 4,
     "metadata": {},
     "output_type": "execute_result"
    }
   ],
   "source": [
    "# DataFrame 활용을 위해 pandas 활용하였으나 이것은 DataFrame API 활용 방안이 아니다.\n",
    "import pandas as pd\n",
    "directory=\"c://Users//apfhd//SparkExam//data//fakefriends.csv\"\n",
    "data =pd.read_csv(f'file:///{directory}')\n",
    "data.head()"
   ]
  },
  {
   "cell_type": "code",
   "execution_count": 5,
   "metadata": {},
   "outputs": [],
   "source": [
    "friend_schema=['number','name','age','friend_amount']"
   ]
  },
  {
   "cell_type": "code",
   "execution_count": 6,
   "metadata": {},
   "outputs": [
    {
     "name": "stdout",
     "output_type": "stream",
     "text": [
      "+------+--------+---+-------------+\n",
      "|number|    name|age|friend_amount|\n",
      "+------+--------+---+-------------+\n",
      "|     1|Jean-Luc| 26|            2|\n",
      "|     2|    Hugh| 55|          221|\n",
      "|     3|  Deanna| 40|          465|\n",
      "|     4|   Quark| 68|           21|\n",
      "|     5|  Weyoun| 59|          318|\n",
      "+------+--------+---+-------------+\n",
      "only showing top 5 rows\n",
      "\n"
     ]
    }
   ],
   "source": [
    "df=spark.createDataFrame(data=data,schema=friend_schema)\n",
    "df.show(5)"
   ]
  },
  {
   "cell_type": "code",
   "execution_count": 7,
   "metadata": {},
   "outputs": [],
   "source": [
    "df.createOrReplaceTempView('friends')"
   ]
  },
  {
   "cell_type": "code",
   "execution_count": 8,
   "metadata": {},
   "outputs": [
    {
     "name": "stdout",
     "output_type": "stream",
     "text": [
      "+-------+-------------+\n",
      "|   name|friend_amount|\n",
      "+-------+-------------+\n",
      "|Beverly|          499|\n",
      "|  Dukat|          397|\n",
      "|   Data|          326|\n",
      "|Beverly|          418|\n",
      "| Kasidy|           24|\n",
      "|   Data|          417|\n",
      "|  Keiko|          472|\n",
      "| Kasidy|          194|\n",
      "+-------+-------------+\n",
      "\n"
     ]
    }
   ],
   "source": [
    "query=\"\"\"\n",
    "select f.name,f.friend_amount\n",
    "from friends f\n",
    "where f.age >= 13 and f.age < 19\n",
    "\"\"\"\n",
    "spark.sql(query).show()"
   ]
  },
  {
   "cell_type": "markdown",
   "metadata": {},
   "source": [
    "### DataFrame API 활용하는 모범 답안"
   ]
  },
  {
   "cell_type": "code",
   "execution_count": 10,
   "metadata": {},
   "outputs": [],
   "source": [
    "# DataFrame API 활용하는 모범 답안\n",
    "from pyspark.sql.types import StructType, StructField\n",
    "from pyspark.sql.types import StringType, FloatType, IntegerType\n",
    "\n",
    "friend_schema= StructType([\n",
    "    StructField(\"id\", IntegerType(),True),\n",
    "    StructField(\"name\",StringType(),True),\n",
    "    StructField(\"age\",IntegerType(),True),\n",
    "    StructField(\"number_friends\",IntegerType(),True)\n",
    "])\n",
    "datas=spark.read.csv(f'file:///{directory}',schema=friend_schema)"
   ]
  },
  {
   "cell_type": "code",
   "execution_count": 11,
   "metadata": {},
   "outputs": [
    {
     "name": "stdout",
     "output_type": "stream",
     "text": [
      "+---+-------+---+--------------+\n",
      "| id|   name|age|number_friends|\n",
      "+---+-------+---+--------------+\n",
      "| 21|  Miles| 19|           268|\n",
      "| 52|Beverly| 19|           269|\n",
      "| 54|  Brunt| 19|             5|\n",
      "|106|Beverly| 18|           499|\n",
      "|115|  Dukat| 18|           397|\n",
      "|133|  Quark| 19|           265|\n",
      "|136|   Will| 19|           335|\n",
      "|225|   Elim| 19|           106|\n",
      "|304|   Will| 19|           404|\n",
      "|341|   Data| 18|           326|\n",
      "|366|  Keiko| 19|           119|\n",
      "|373|  Quark| 19|           272|\n",
      "|377|Beverly| 18|           418|\n",
      "|404| Kasidy| 18|            24|\n",
      "|409|    Nog| 19|           267|\n",
      "|439|   Data| 18|           417|\n",
      "|444|  Keiko| 18|           472|\n",
      "|492|  Dukat| 19|            36|\n",
      "|494| Kasidy| 18|           194|\n",
      "+---+-------+---+--------------+\n",
      "\n"
     ]
    }
   ],
   "source": [
    "# 정답\n",
    "friends=datas.filter((datas.age>=13)&(datas.age<=19))\n",
    "friends.show()"
   ]
  },
  {
   "cell_type": "markdown",
   "metadata": {},
   "source": [
    "### 피드백 : DataFrame API 활용 시 ``스키마를 수동으로 각각 타입을 지정``해주고 query가 아닌 ``filter로 활용``해야한다."
   ]
  },
  {
   "cell_type": "markdown",
   "metadata": {},
   "source": []
  }
 ],
 "metadata": {
  "kernelspec": {
   "display_name": "Python 3.9.13 ('base')",
   "language": "python",
   "name": "python3"
  },
  "language_info": {
   "codemirror_mode": {
    "name": "ipython",
    "version": 3
   },
   "file_extension": ".py",
   "mimetype": "text/x-python",
   "name": "python",
   "nbconvert_exporter": "python",
   "pygments_lexer": "ipython3",
   "version": "3.9.13"
  },
  "orig_nbformat": 4,
  "vscode": {
   "interpreter": {
    "hash": "3c06e3e46abf38078fe4dac36a0085ec2b134ebbd73dd076183d243eeca6918f"
   }
  }
 },
 "nbformat": 4,
 "nbformat_minor": 2
}
